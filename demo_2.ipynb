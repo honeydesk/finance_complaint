{
 "cells": [
  {
   "cell_type": "code",
   "execution_count": 1,
   "metadata": {},
   "outputs": [
    {
     "name": "stdout",
     "output_type": "stream",
     "text": [
      "Reading environment variables\n"
     ]
    },
    {
     "name": "stderr",
     "output_type": "stream",
     "text": [
      "Setting default log level to \"WARN\".\n",
      "To adjust logging level use sc.setLogLevel(newLevel). For SparkR, use setLogLevel(newLevel).\n",
      "23/03/23 13:40:36 WARN NativeCodeLoader: Unable to load native-hadoop library for your platform... using builtin-java classes where applicable\n"
     ]
    }
   ],
   "source": [
    "from finance_complaint.config.spark_manager import spark_session"
   ]
  },
  {
   "cell_type": "code",
   "execution_count": 2,
   "metadata": {},
   "outputs": [
    {
     "name": "stderr",
     "output_type": "stream",
     "text": [
      "                                                                                \r"
     ]
    }
   ],
   "source": [
    "df = spark_session.read.parquet(\"/config/workspace/data/outbox/finance_complaint_20230323_133019\")"
   ]
  },
  {
   "cell_type": "code",
   "execution_count": 3,
   "metadata": {},
   "outputs": [
    {
     "name": "stderr",
     "output_type": "stream",
     "text": [
      "23/03/23 13:42:49 WARN package: Truncated the string representation of a plan since it was too large. This behavior can be adjusted by setting 'spark.sql.debug.maxToStringFields'.\n",
      "[Stage 1:>                                                          (0 + 1) / 1]\r"
     ]
    },
    {
     "name": "stdout",
     "output_type": "stream",
     "text": [
      "+--------------------+-----------------------+--------------------+------------+-----------------------+-------------------------+-----------------+-------------------+--------------------+--------------------+--------------------+-----+--------------------+--------------------+-------------+--------------+------+--------+------------+---------------+--------------------+----------------------------+----------------+-------------------+----------------------------+----------------+-------------------+----------------------------+----------------+--------------------+--------------------+--------------------+--------------------+---------------------+-------------+-----------+----------+----------------------------+\n",
      "|             company|company_public_response|    company_response|complaint_id|complaint_what_happened|consumer_consent_provided|consumer_disputed|      date_received|date_sent_to_company|               issue|             product|state|           sub_issue|         sub_product|submitted_via|          tags|timely|zip_code|diff_in_days|im_diff_in_days| im_company_response|im_consumer_consent_provided|im_submitted_via|si_company_response|si_consumer_consent_provided|si_submitted_via|tf_company_response|tf_consumer_consent_provided|tf_submitted_via|               words|         rawFeatures|            tf_issue|   va_input_features|scaled_input_features|rawPrediction|probability|prediction|prediction_consumer_disputed|\n",
      "+--------------------+-----------------------+--------------------+------------+-----------------------+-------------------------+-----------------+-------------------+--------------------+--------------------+--------------------+-----+--------------------+--------------------+-------------+--------------+------+--------+------------+---------------+--------------------+----------------------------+----------------+-------------------+----------------------------+----------------+-------------------+----------------------------+----------------+--------------------+--------------------+--------------------+--------------------+---------------------+-------------+-----------+----------+----------------------------+\n",
      "|Experian Informat...|   Company has respo...|Closed with expla...|     6439789|                       |     Consent not provided|              N/A|2023-01-14 22:30:00| 2023-01-14 22:30:00|Problem with a cr...|Credit reporting,...|   NJ|Their investigati...|    Credit reporting|          Web|          null|   Yes|   07111|         0.0|            0.0|Closed with expla...|        Consent not provided|             Web|                0.0|                         0.0|             0.0|      (4,[0],[1.0])|               (4,[0],[1.0])|   (4,[0],[1.0])|[problem, with, a...|(40,[10,11,18,20,...|(40,[10,11,18,20,...|(53,[0,4,8,23,24,...| (53,[0,4,8,23,24,...|       [20.0]|      [1.0]|       0.0|                         N/A|\n",
      "| The CBE Group, Inc.|                   null|Closed with non-m...|     6487207|                       |                     null|              N/A|2023-01-26 22:30:00| 2023-01-26 22:30:00|Attempts to colle...|     Debt collection|   TX|Debt was result o...|    Credit card debt|          Web|Older American|   Yes|   78596|         0.0|            0.0|Closed with non-m...|        Consent not provided|             Web|                1.0|                         0.0|             0.0|      (4,[1],[1.0])|               (4,[0],[1.0])|   (4,[0],[1.0])|[attempts, to, co...|(40,[3,5,8,14,15,...|(40,[3,5,8,14,15,...|(53,[1,4,8,16,18,...| (53,[1,4,8,16,18,...|       [20.0]|      [1.0]|       0.0|                         N/A|\n",
      "|Experian Informat...|   Company has respo...|Closed with expla...|     6438561|                       |     Consent not provided|              N/A|2023-01-14 22:30:00| 2023-01-14 22:30:00|Problem with a cr...|Credit reporting,...|   TN|Their investigati...|    Credit reporting|          Web|          null|   Yes|   37024|         0.0|            0.0|Closed with expla...|        Consent not provided|             Web|                0.0|                         0.0|             0.0|      (4,[0],[1.0])|               (4,[0],[1.0])|   (4,[0],[1.0])|[problem, with, a...|(40,[10,11,18,20,...|(40,[10,11,18,20,...|(53,[0,4,8,23,24,...| (53,[0,4,8,23,24,...|       [20.0]|      [1.0]|       0.0|                         N/A|\n",
      "|Experian Informat...|   Company has respo...|Closed with expla...|     6438552|                       |     Consent not provided|              N/A|2023-01-14 22:30:00| 2023-01-14 22:30:00|Improper use of y...|Credit reporting,...|   NC|Credit inquiries ...|    Credit reporting|          Web|          null|   Yes|   27926|         0.0|            0.0|Closed with expla...|        Consent not provided|             Web|                0.0|                         0.0|             0.0|      (4,[0],[1.0])|               (4,[0],[1.0])|   (4,[0],[1.0])|[improper, use, o...|(40,[13,15,23,25,...|(40,[13,15,23,25,...|(53,[0,4,8,26,28,...| (53,[0,4,8,26,28,...|       [20.0]|      [1.0]|       0.0|                         N/A|\n",
      "|Experian Informat...|   Company has respo...|Closed with expla...|     6438349|                       |     Consent not provided|              N/A|2023-01-14 22:30:00| 2023-01-14 22:30:00|Incorrect informa...|Credit reporting,...|   TN|Information belon...|    Credit reporting|          Web|          null|   Yes|   38114|         0.0|            0.0|Closed with expla...|        Consent not provided|             Web|                0.0|                         0.0|             0.0|      (4,[0],[1.0])|               (4,[0],[1.0])|   (4,[0],[1.0])|[incorrect, infor...|(40,[16,22,23,25,...|(40,[16,22,23,25,...|(53,[0,4,8,29,35,...| (53,[0,4,8,29,35,...|       [20.0]|      [1.0]|       0.0|                         N/A|\n",
      "|       EQUIFAX, INC.|                   null|Closed with expla...|     6511438|                       |                     null|              N/A|2023-01-31 22:30:00| 2023-01-31 22:30:00|Incorrect informa...|Credit reporting,...|   GA|Information belon...|    Credit reporting|          Web|          null|   Yes|   30313|         0.0|            0.0|Closed with expla...|        Consent not provided|             Web|                0.0|                         0.0|             0.0|      (4,[0],[1.0])|               (4,[0],[1.0])|   (4,[0],[1.0])|[incorrect, infor...|(40,[16,22,23,25,...|(40,[16,22,23,25,...|(53,[0,4,8,29,35,...| (53,[0,4,8,29,35,...|       [20.0]|      [1.0]|       0.0|                         N/A|\n",
      "|Quality Acceptanc...|                   null|Closed with expla...|     6500417|                       |                     null|              N/A|2023-01-28 22:30:00| 2023-01-28 22:30:00|Written notificat...|     Debt collection|   NV|Didn't receive en...|           Auto debt|          Web|          null|   Yes|   89101|         0.0|            0.0|Closed with expla...|        Consent not provided|             Web|                0.0|                         0.0|             0.0|      (4,[0],[1.0])|               (4,[0],[1.0])|   (4,[0],[1.0])|[written, notific...|(40,[10,14,36],[1...|(40,[10,14,36],[1...|(53,[0,4,8,23,27,...| (53,[0,4,8,23,27,...|       [20.0]|      [1.0]|       0.0|                         N/A|\n",
      "|       EQUIFAX, INC.|                   null|Closed with expla...|     6471311|                       |                     null|              N/A|2023-01-22 22:30:00| 2023-01-22 22:30:00|Incorrect informa...|Credit reporting,...|   MD|Personal informat...|    Credit reporting|          Web|          null|   Yes|   21075|         0.0|            0.0|Closed with expla...|        Consent not provided|             Web|                0.0|                         0.0|             0.0|      (4,[0],[1.0])|               (4,[0],[1.0])|   (4,[0],[1.0])|[incorrect, infor...|(40,[16,22,23,25,...|(40,[16,22,23,25,...|(53,[0,4,8,29,35,...| (53,[0,4,8,29,35,...|       [20.0]|      [1.0]|       0.0|                         N/A|\n",
      "|       EQUIFAX, INC.|                   null|Closed with expla...|     6511764|                       |                     null|              N/A|2023-01-31 22:30:00| 2023-01-31 22:30:00|Improper use of y...|Credit reporting,...|   LA|Reporting company...|    Credit reporting|          Web|          null|   Yes|   70002|         0.0|            0.0|Closed with expla...|        Consent not provided|             Web|                0.0|                         0.0|             0.0|      (4,[0],[1.0])|               (4,[0],[1.0])|   (4,[0],[1.0])|[improper, use, o...|(40,[13,15,23,25,...|(40,[13,15,23,25,...|(53,[0,4,8,26,28,...| (53,[0,4,8,26,28,...|       [20.0]|      [1.0]|       0.0|                         N/A|\n",
      "|       EQUIFAX, INC.|                   null|Closed with expla...|     6500662|                       |                     null|              N/A|2023-01-28 22:30:00| 2023-01-28 22:30:00|Incorrect informa...|Credit reporting,...|   NJ|Information belon...|    Credit reporting|          Web|          null|   Yes|   07111|         0.0|            0.0|Closed with expla...|        Consent not provided|             Web|                0.0|                         0.0|             0.0|      (4,[0],[1.0])|               (4,[0],[1.0])|   (4,[0],[1.0])|[incorrect, infor...|(40,[16,22,23,25,...|(40,[16,22,23,25,...|(53,[0,4,8,29,35,...| (53,[0,4,8,29,35,...|       [20.0]|      [1.0]|       0.0|                         N/A|\n",
      "|TRANSUNION INTERM...|   Company has respo...|Closed with non-m...|     6505000|                       |     Consent not provided|              N/A|2023-01-30 22:30:00| 2023-01-30 22:30:00|Problem with a cr...|Credit reporting,...|   NC|Investigation too...|    Credit reporting|          Web|          null|   Yes|   28208|         0.0|            0.0|Closed with non-m...|        Consent not provided|             Web|                1.0|                         0.0|             0.0|      (4,[1],[1.0])|               (4,[0],[1.0])|   (4,[0],[1.0])|[problem, with, a...|(40,[10,11,18,20,...|(40,[10,11,18,20,...|(53,[1,4,8,23,24,...| (53,[1,4,8,23,24,...|       [20.0]|      [1.0]|       0.0|                         N/A|\n",
      "|       EQUIFAX, INC.|                   null|Closed with expla...|     6393869|                       |     Consent not provided|              N/A|2023-01-03 22:30:00| 2023-01-03 22:30:00|Incorrect informa...|Credit reporting,...|   PA|Account status in...|    Credit reporting|          Web|          null|   Yes|   19141|         0.0|            0.0|Closed with expla...|        Consent not provided|             Web|                0.0|                         0.0|             0.0|      (4,[0],[1.0])|               (4,[0],[1.0])|   (4,[0],[1.0])|[incorrect, infor...|(40,[16,22,23,25,...|(40,[16,22,23,25,...|(53,[0,4,8,29,35,...| (53,[0,4,8,29,35,...|       [20.0]|      [1.0]|       0.0|                         N/A|\n",
      "|       EQUIFAX, INC.|                   null|Closed with expla...|     6498969|                       |                     null|              N/A|2023-01-28 22:30:00| 2023-01-28 22:30:00|Improper use of y...|Credit reporting,...|   LA|Reporting company...|    Credit reporting|          Web|          null|   Yes|   71106|         0.0|            0.0|Closed with expla...|        Consent not provided|             Web|                0.0|                         0.0|             0.0|      (4,[0],[1.0])|               (4,[0],[1.0])|   (4,[0],[1.0])|[improper, use, o...|(40,[13,15,23,25,...|(40,[13,15,23,25,...|(53,[0,4,8,26,28,...| (53,[0,4,8,26,28,...|       [20.0]|      [1.0]|       0.0|                         N/A|\n",
      "|TRANSUNION INTERM...|   Company has respo...|Closed with non-m...|     6507646|                       |     Consent not provided|              N/A|2023-01-30 22:30:00| 2023-01-30 22:30:00|Incorrect informa...|Credit reporting,...|   PA|Information belon...|    Credit reporting|          Web|          null|   Yes|   19153|         0.0|            0.0|Closed with non-m...|        Consent not provided|             Web|                1.0|                         0.0|             0.0|      (4,[1],[1.0])|               (4,[0],[1.0])|   (4,[0],[1.0])|[incorrect, infor...|(40,[16,22,23,25,...|(40,[16,22,23,25,...|(53,[1,4,8,29,35,...| (53,[1,4,8,29,35,...|       [20.0]|      [1.0]|       0.0|                         N/A|\n",
      "|TRANSUNION INTERM...|   Company has respo...|Closed with non-m...|     6505024|                       |     Consent not provided|              N/A|2023-01-30 22:30:00| 2023-01-30 22:30:00|Problem with a cr...|Credit reporting,...|   WI|Their investigati...|    Credit reporting|          Web|          null|   Yes|   53205|         0.0|            0.0|Closed with non-m...|        Consent not provided|             Web|                1.0|                         0.0|             0.0|      (4,[1],[1.0])|               (4,[0],[1.0])|   (4,[0],[1.0])|[problem, with, a...|(40,[10,11,18,20,...|(40,[10,11,18,20,...|(53,[1,4,8,23,24,...| (53,[1,4,8,23,24,...|       [20.0]|      [1.0]|       0.0|                         N/A|\n",
      "|WELLS FARGO & COM...|   Company has respo...|Closed with expla...|     6479218|                       |                      N/A|              N/A|2023-01-24 22:30:00| 2023-01-24 22:30:00| Managing an account|Checking or savin...|   LA|Problem accessing...|    Checking account|        Phone|          null|   Yes|   70052|         0.0|            0.0|Closed with expla...|                         N/A|           Phone|                0.0|                         2.0|             1.0|      (4,[0],[1.0])|               (4,[2],[1.0])|   (4,[1],[1.0])|[managing, an, ac...|(40,[10,27,28],[1...|(40,[10,27,28],[1...|(53,[0,6,9,23,40,...| (53,[0,6,9,23,40,...|       [20.0]|      [1.0]|       0.0|                         N/A|\n",
      "|       DISCOVER BANK|                   null|Closed with non-m...|     6484447|                       |                     null|              N/A|2023-01-25 22:30:00| 2023-01-25 22:30:00|Other features, t...|Credit card or pr...|   CA|Problem with cust...|General-purpose c...|          Web|          null|   Yes|   92861|         0.0|            0.0|Closed with non-m...|        Consent not provided|             Web|                1.0|                         0.0|             0.0|      (4,[1],[1.0])|               (4,[0],[1.0])|   (4,[0],[1.0])|[other, features,...|(40,[9,21,28,30,3...|(40,[9,21,28,30,3...|(53,[1,4,8,22,34,...| (53,[1,4,8,22,34,...|       [20.0]|      [1.0]|       0.0|                         N/A|\n",
      "|       EQUIFAX, INC.|                   null|Closed with expla...|     6395727|                       |     Consent not provided|              N/A|2023-01-05 22:30:00| 2023-01-05 22:30:00|Improper use of y...|Credit reporting,...|   OH|Reporting company...|    Credit reporting|          Web|          null|   Yes|   44320|         0.0|            0.0|Closed with expla...|        Consent not provided|             Web|                0.0|                         0.0|             0.0|      (4,[0],[1.0])|               (4,[0],[1.0])|   (4,[0],[1.0])|[improper, use, o...|(40,[13,15,23,25,...|(40,[13,15,23,25,...|(53,[0,4,8,26,28,...| (53,[0,4,8,26,28,...|       [20.0]|      [1.0]|       0.0|                         N/A|\n",
      "|WELLS FARGO & COM...|   Company has respo...|Closed with expla...|     6496735|   After paying off ...|         Consent provided|              N/A|2023-01-27 22:30:00| 2023-01-27 22:30:00|Problems at the e...|Vehicle loan or l...|   IL|Unable to receive...|                Loan|          Web|          null|   Yes|   60162|         0.0|            0.0|Closed with expla...|            Consent provided|             Web|                0.0|                         1.0|             0.0|      (4,[0],[1.0])|               (4,[1],[1.0])|   (4,[0],[1.0])|[problems, at, th...|(40,[2,10,13,15,1...|(40,[2,10,13,15,1...|(53,[0,5,8,15,23,...| (53,[0,5,8,15,23,...|       [20.0]|      [1.0]|       0.0|                         N/A|\n",
      "|       EQUIFAX, INC.|                   null|Closed with expla...|     6470916|                       |                     null|              N/A|2023-01-23 22:30:00| 2023-01-23 22:30:00|Incorrect informa...|Credit reporting,...|   NV|Account informati...|    Credit reporting|          Web|          null|   Yes|   89074|         0.0|            0.0|Closed with expla...|        Consent not provided|             Web|                0.0|                         0.0|             0.0|      (4,[0],[1.0])|               (4,[0],[1.0])|   (4,[0],[1.0])|[incorrect, infor...|(40,[16,22,23,25,...|(40,[16,22,23,25,...|(53,[0,4,8,29,35,...| (53,[0,4,8,29,35,...|       [20.0]|      [1.0]|       0.0|                         N/A|\n",
      "+--------------------+-----------------------+--------------------+------------+-----------------------+-------------------------+-----------------+-------------------+--------------------+--------------------+--------------------+-----+--------------------+--------------------+-------------+--------------+------+--------+------------+---------------+--------------------+----------------------------+----------------+-------------------+----------------------------+----------------+-------------------+----------------------------+----------------+--------------------+--------------------+--------------------+--------------------+---------------------+-------------+-----------+----------+----------------------------+\n",
      "only showing top 20 rows\n",
      "\n"
     ]
    },
    {
     "name": "stderr",
     "output_type": "stream",
     "text": [
      "                                                                                \r"
     ]
    }
   ],
   "source": [
    "df.show()"
   ]
  },
  {
   "cell_type": "code",
   "execution_count": 4,
   "metadata": {},
   "outputs": [
    {
     "data": {
      "text/plain": [
       "['company',\n",
       " 'company_public_response',\n",
       " 'company_response',\n",
       " 'complaint_id',\n",
       " 'complaint_what_happened',\n",
       " 'consumer_consent_provided',\n",
       " 'consumer_disputed',\n",
       " 'date_received',\n",
       " 'date_sent_to_company',\n",
       " 'issue',\n",
       " 'product',\n",
       " 'state',\n",
       " 'sub_issue',\n",
       " 'sub_product',\n",
       " 'submitted_via',\n",
       " 'tags',\n",
       " 'timely',\n",
       " 'zip_code',\n",
       " 'diff_in_days',\n",
       " 'im_diff_in_days',\n",
       " 'im_company_response',\n",
       " 'im_consumer_consent_provided',\n",
       " 'im_submitted_via',\n",
       " 'si_company_response',\n",
       " 'si_consumer_consent_provided',\n",
       " 'si_submitted_via',\n",
       " 'tf_company_response',\n",
       " 'tf_consumer_consent_provided',\n",
       " 'tf_submitted_via',\n",
       " 'words',\n",
       " 'rawFeatures',\n",
       " 'tf_issue',\n",
       " 'va_input_features',\n",
       " 'scaled_input_features',\n",
       " 'rawPrediction',\n",
       " 'probability',\n",
       " 'prediction',\n",
       " 'prediction_consumer_disputed']"
      ]
     },
     "execution_count": 4,
     "metadata": {},
     "output_type": "execute_result"
    }
   ],
   "source": [
    "df.columns"
   ]
  },
  {
   "cell_type": "code",
   "execution_count": 8,
   "metadata": {},
   "outputs": [
    {
     "data": {
      "text/plain": [
       "DataFrame[scaled_input_features: vector, rawPrediction: vector, probability: vector, prediction: double, prediction_consumer_disputed: string]"
      ]
     },
     "execution_count": 8,
     "metadata": {},
     "output_type": "execute_result"
    }
   ],
   "source": [
    "# Picking few coloumns\n",
    "df.select(['scaled_input_features', 'rawPrediction', 'probability', 'prediction', 'prediction_consumer_disputed'])"
   ]
  },
  {
   "cell_type": "code",
   "execution_count": 9,
   "metadata": {},
   "outputs": [
    {
     "name": "stdout",
     "output_type": "stream",
     "text": [
      "+---------------------+-------------+-----------+----------+----------------------------+\n",
      "|scaled_input_features|rawPrediction|probability|prediction|prediction_consumer_disputed|\n",
      "+---------------------+-------------+-----------+----------+----------------------------+\n",
      "| (53,[0,4,8,23,24,...|       [20.0]|      [1.0]|       0.0|                         N/A|\n",
      "| (53,[1,4,8,16,18,...|       [20.0]|      [1.0]|       0.0|                         N/A|\n",
      "| (53,[0,4,8,23,24,...|       [20.0]|      [1.0]|       0.0|                         N/A|\n",
      "| (53,[0,4,8,26,28,...|       [20.0]|      [1.0]|       0.0|                         N/A|\n",
      "| (53,[0,4,8,29,35,...|       [20.0]|      [1.0]|       0.0|                         N/A|\n",
      "| (53,[0,4,8,29,35,...|       [20.0]|      [1.0]|       0.0|                         N/A|\n",
      "| (53,[0,4,8,23,27,...|       [20.0]|      [1.0]|       0.0|                         N/A|\n",
      "| (53,[0,4,8,29,35,...|       [20.0]|      [1.0]|       0.0|                         N/A|\n",
      "| (53,[0,4,8,26,28,...|       [20.0]|      [1.0]|       0.0|                         N/A|\n",
      "| (53,[0,4,8,29,35,...|       [20.0]|      [1.0]|       0.0|                         N/A|\n",
      "| (53,[1,4,8,23,24,...|       [20.0]|      [1.0]|       0.0|                         N/A|\n",
      "| (53,[0,4,8,29,35,...|       [20.0]|      [1.0]|       0.0|                         N/A|\n",
      "| (53,[0,4,8,26,28,...|       [20.0]|      [1.0]|       0.0|                         N/A|\n",
      "| (53,[1,4,8,29,35,...|       [20.0]|      [1.0]|       0.0|                         N/A|\n",
      "| (53,[1,4,8,23,24,...|       [20.0]|      [1.0]|       0.0|                         N/A|\n",
      "| (53,[0,6,9,23,40,...|       [20.0]|      [1.0]|       0.0|                         N/A|\n",
      "| (53,[1,4,8,22,34,...|       [20.0]|      [1.0]|       0.0|                         N/A|\n",
      "| (53,[0,4,8,26,28,...|       [20.0]|      [1.0]|       0.0|                         N/A|\n",
      "| (53,[0,5,8,15,23,...|       [20.0]|      [1.0]|       0.0|                         N/A|\n",
      "| (53,[0,4,8,29,35,...|       [20.0]|      [1.0]|       0.0|                         N/A|\n",
      "+---------------------+-------------+-----------+----------+----------------------------+\n",
      "only showing top 20 rows\n",
      "\n"
     ]
    }
   ],
   "source": [
    "# Note that in our target column, we have three categories: 'Yes', 'NO' and 'N/A'\n",
    "df.select(['scaled_input_features', 'rawPrediction', 'probability', 'prediction', 'prediction_consumer_disputed']).show()\n"
   ]
  }
 ],
 "metadata": {
  "kernelspec": {
   "display_name": "Python 3.8.10 64-bit",
   "language": "python",
   "name": "python3"
  },
  "language_info": {
   "codemirror_mode": {
    "name": "ipython",
    "version": 3
   },
   "file_extension": ".py",
   "mimetype": "text/x-python",
   "name": "python",
   "nbconvert_exporter": "python",
   "pygments_lexer": "ipython3",
   "version": "3.8.10"
  },
  "orig_nbformat": 4,
  "vscode": {
   "interpreter": {
    "hash": "e7370f93d1d0cde622a1f8e1c04877d8463912d04d973331ad4851f04de6915a"
   }
  }
 },
 "nbformat": 4,
 "nbformat_minor": 2
}
